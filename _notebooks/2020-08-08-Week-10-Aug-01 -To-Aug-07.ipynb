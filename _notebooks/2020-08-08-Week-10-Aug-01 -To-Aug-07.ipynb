{
 "cells": [
  {
   "cell_type": "markdown",
   "metadata": {},
   "source": [
    "# \"Coding Period: Week 10\"\n",
    "> \"Fixing issues in App, working on Share, About Screens,readme.md\"\n",
    "\n",
    "- toc: false\n",
    "- branch: master\n",
    "- badges: true\n",
    "- comments: true\n",
    "- hide: false\n",
    "\n",
    "- search_exclude: true"
   ]
  },
  {
   "cell_type": "markdown",
   "metadata": {},
   "source": [
    "### Fixing issues\n",
    "\n",
    "I worked on different issues created by mentor Mua,\n",
    "\n",
    "- Adding Search & Filter Functionality in View CDM Screen\n",
    "\n",
    "I have to make same functionality as in search screen\n",
    "\n",
    "- Searching while typing\n",
    "\n",
    "For this I have to listen textcontroller & have search in database whenever user enters any word\n",
    "\n",
    "- Improving UI of CDM List tile\n",
    "\n",
    "I have decreased font size of CDM List tile, Added different color background to category\n",
    "\n",
    "\n",
    "\n",
    "![download_cdm](https://github.com/Darshpreet2000/My-Blog/blob/master/images/new_ui.jpeg?raw=true)\n",
    "\n",
    "- Fixed Bug CDM not getting saved immediately after downloading\n",
    "\n",
    "This was small problem, I just need to call Saved screen bloc to refresh data\n",
    "\n",
    "### Working on Share App & About App\n",
    "\n",
    "With the share app feature in navigation drawer user can share app using social media platforms, About feature displays an intro about the project & it also contains a link to this project Repository.\n",
    "\n",
    "#### ScreenShots\n",
    "\n",
    "\n",
    "![download_cdm](https://github.com/Darshpreet2000/My-Blog/blob/master/images/about_screen.jpeg?raw=true)\n",
    "\n",
    "\n",
    "### Writing Readme.md for App\n",
    "\n",
    "This is in progress, I have searched & viewed a lot of readme of many open source projects to get idea about it, I will complete this readme by Sunday \n",
    "\n",
    "### Searching on internet on how to make Git Repo Smaller\n",
    "\n",
    "The scraper repo is very large but it doesn't contains any large file, its size is only 1 MB but on cloning we have to clone around 500 MB, it is because Git History of commit is very large. I want to discuss with mentor mua about it\n",
    "\n",
    "### What do I plan to do next week?\n",
    "\n",
    "- Decreasing size of data scraper repository\n",
    "- Completing readme of App\n",
    "- Writing Unit Test of Home Screen, Download CDM screen, Saved CDM Screen\n",
    "- Developing & discussing REST API with flask"
   ]
  },
  {
   "cell_type": "code",
   "execution_count": null,
   "metadata": {},
   "outputs": [],
   "source": []
  }
 ],
 "metadata": {
  "kernelspec": {
   "display_name": "Python 3",
   "language": "python",
   "name": "python3"
  },
  "language_info": {
   "codemirror_mode": {
    "name": "ipython",
    "version": 3
   },
   "file_extension": ".py",
   "mimetype": "text/x-python",
   "name": "python",
   "nbconvert_exporter": "python",
   "pygments_lexer": "ipython3",
   "version": "3.7.6"
  }
 },
 "nbformat": 4,
 "nbformat_minor": 4
}
