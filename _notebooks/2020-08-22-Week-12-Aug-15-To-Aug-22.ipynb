{
 "cells": [
  {
   "cell_type": "markdown",
   "metadata": {},
   "source": [
    "# \"Coding Period: Week 12\"\n",
    "> \"Working on Search by price, fixing bugs, making intro slides\"\n",
    "\n",
    "- toc: false\n",
    "- branch: master\n",
    "- badges: true\n",
    "- comments: true\n",
    "- hide: false\n",
    "\n",
    "- search_exclude: true"
   ]
  },
  {
   "cell_type": "markdown",
   "metadata": {},
   "source": [
    "### Making Compare by price feature\n",
    "\n",
    "My Mentor Mua suggested this feature, it is very useful, we just enter price & all the procedures whose price is approximate to that entered price gets displayed.\n",
    "\n",
    "\n",
    "![download_cdm](https://github.com/Darshpreet2000/My-Blog/blob/master/images/search_by_price.png?raw=true)\n",
    "\n",
    "\n",
    "### Created option in App settings to choose any location of US to try App.\n",
    "\n",
    "I displayed an alert dialog when user presses on button choose a US state, then it displays all US states, when user presses any state then the app takes it as a new location & fetches nearby hospital when user presses on Save button.\n",
    "This feature I created for those who want to test this app and are not a resident of US.\n",
    "\n",
    "\n",
    "![download_cdm](https://github.com/Darshpreet2000/My-Blog/blob/master/images/choose_a_state.png?raw=true)\n",
    "\n",
    "\n",
    "![download_cdm](https://github.com/Darshpreet2000/My-Blog/blob/master/images/alert_dialog.png?raw=true)\n",
    "\n",
    "\n",
    "### Making IntroSlides for app\n",
    "\n",
    "I have made intro slides in App, I have searched a lot for images on Google & use intro slides package for flutter.\n",
    "\n",
    "\n",
    "![download_cdm](https://github.com/Darshpreet2000/My-Blog/blob/master/images/intro1.png?raw=true)\n",
    "![download_cdm](https://github.com/Darshpreet2000/My-Blog/blob/master/images/intro2.png?raw=true)\n",
    "![download_cdm](https://github.com/Darshpreet2000/My-Blog/blob/master/images/intro3.png?raw=true)\n",
    "\n",
    "### Making Splash Screen\n",
    "\n",
    "I used LibreHealth Logo for splash screen, I scaled image to different resolutions for this & then placed it in app & ios folder in App.\n",
    "\n",
    "\n",
    "![download_cdm](https://github.com/Darshpreet2000/My-Blog/blob/master/images/splash.png?raw=true)\n",
    "\n",
    "\n",
    "### Used Orange LH theme\n",
    "\n",
    "I used LibreHealth Orange theme for App,earlier I used indigo color, but now with this orange theme App looks great.\n",
    "\n",
    "\n",
    "### Working on Updating all CDM from App\n",
    "\n",
    "App should update its saved CDM from gitlab every month, I have to work on this feature, I will complete it by tomorrow.\n",
    "\n",
    "### What do I plan to do After GSoC?\n",
    "\n",
    "I will continue to contribute to LibreHealth for this project. I will assist the new members who are willing to contribute for this project. I will actively take part in the discussions and I will contribute by creating, Solving issues and adding improvements to this app.\n",
    "\n",
    "### Have you had any blockers or issues that are impending your project?\n",
    "\n",
    "Project is almost done, I only need to discuss report a bug feature with @mua_rachmann & make a CI pipeline for App"
   ]
  },
  {
   "cell_type": "markdown",
   "metadata": {},
   "source": []
  }
 ],
 "metadata": {
  "kernelspec": {
   "display_name": "Python 3",
   "language": "python",
   "name": "python3"
  },
  "language_info": {
   "codemirror_mode": {
    "name": "ipython",
    "version": 3
   },
   "file_extension": ".py",
   "mimetype": "text/x-python",
   "name": "python",
   "nbconvert_exporter": "python",
   "pygments_lexer": "ipython3",
   "version": "3.8.3"
  }
 },
 "nbformat": 4,
 "nbformat_minor": 4
}
