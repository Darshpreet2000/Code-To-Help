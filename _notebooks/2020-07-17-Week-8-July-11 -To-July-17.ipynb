{
 "cells": [
  {
   "cell_type": "markdown",
   "metadata": {},
   "source": [
    "# \"Coding Period: Week 7\"\n",
    "> \"Processed CDM of Caliornia,Showed Progress while downloading CDM\"\n",
    "\n",
    "- toc: false\n",
    "- branch: master\n",
    "- badges: true\n",
    "- comments: true\n",
    "- hide: false\n",
    "- search_exclude: true"
   ]
  },
  {
   "cell_type": "markdown",
   "metadata": {},
   "source": [
    "## Showing Progress Indicator while downloading CDM\n",
    "\n",
    "The progress indicator shows percent 0-60 for downloading CDM, Rest of 60-100 percent are used for inserting downloaded large CSV to \n",
    "SQL Database in App\n",
    "\n",
    "\n",
    "This task was really challenging for me, it involves a lot of state change & also I first have to get original file size using GitLab API.\n",
    "\n",
    "I have used BLoC Architecture properly for handling states of progress indicator.\n",
    "\n",
    "Color of progress indicator change from red-orange-green.\n",
    "\n",
    "### ScreenShots\n",
    "\n",
    "\n",
    "![download_cdm](https://github.com/Darshpreet2000/My-Blog/blob/master/images/progressLow.jpeg?raw=true)\n",
    "\n",
    "\n",
    "![download_cdm](https://github.com/Darshpreet2000/My-Blog/blob/master/images/progressHigh.jpeg?raw=true)\n",
    "\n",
    "\n",
    "## Working on Gitlab CI Pipeline\n",
    "\n",
    "I was able to successfully install chromedriver & chromebrowser on Linux CI, but it was not working earlier because there was no display in CI terminal for bowser to display, I was getting an excaption, After searching a lot on StackOverFlow , I found a solution to use pyvirtualdisplay & now it is working correctly.\n",
    "\n",
    "The CI Pipeline Scraps CDM & make a \"Data\" directory which contains CDM & after running \"process.py\" it makes \"CDM\" directory which contains CDM in proper columns.\n",
    "\n",
    "\n",
    "\n",
    "## Making Process Scripts for California Hospitals\n",
    "\n",
    "There are around 370 hospitals in california, Till now I have completed process script of around 250 Hospitals, for rest work I will surely complete by tomorrow.\n",
    "\n",
    "This task is very time consuming & also boring, I have to check column names, rows to skip in each CDM.\n",
    "\n",
    "I will create its MR by tomorrow.\n",
    "\n",
    "## View CDM Statewise Screen\n",
    "\n",
    "This task is pending from last week, I will complete it in this weekend , I just have to get available states using Gitlab API, & then show the data in list view, Opening each state will work as \"View CDM Screen\" which is already created.\n",
    "So, this will done by tomorrow.\n",
    "\n",
    "\n",
    "## What do I plan to do next week?\n",
    "\n",
    "### For Web Scraper\n",
    "\n",
    "1.Scraping & making process script for following data.\n",
    "\n",
    "Inpatient Data of 3000 Hospitals\n",
    "\n",
    "https://data.cms.gov/Medicare-Inpatient/Inpatient-Prospective-Payment-System-IPPS-Provider/tcsp-6e99\n",
    "\n",
    "Outpatient Data of Hospitals\n",
    "\n",
    "https://data.cms.gov/Medicare-Outpatient/Provider-Outpatient-Hospital-Charge-Data-by-APC-CY/fmbt-qrrw\n",
    "\n",
    "### For App\n",
    "\n",
    "1.Completing view CDM Statewise screen.\n",
    "\n",
    "2.Working on Compare Hospitals Functionality of App"
   ]
  },
  {
   "cell_type": "code",
   "execution_count": null,
   "metadata": {},
   "outputs": [],
   "source": []
  }
 ],
 "metadata": {
  "kernelspec": {
   "display_name": "Python 3",
   "language": "python",
   "name": "python3"
  },
  "language_info": {
   "codemirror_mode": {
    "name": "ipython",
    "version": 3
   },
   "file_extension": ".py",
   "mimetype": "text/x-python",
   "name": "python",
   "nbconvert_exporter": "python",
   "pygments_lexer": "ipython3",
   "version": "3.7.6"
  }
 },
 "nbformat": 4,
 "nbformat_minor": 4
}
