{
 "cells": [
  {
   "attachments": {},
   "cell_type": "markdown",
   "metadata": {},
   "source": [
    "# \"Coding Period: Week 2\"\n",
    "> \"Completing UI for main feature & setting Web Crawler \"\n",
    "\n",
    "- toc: false\n",
    "- branch: master\n",
    "- badges: true\n",
    "- comments: true\n",
    "- hide: false\n",
    "- search_exclude: true\n",
    "\n",
    "\n",
    "Second week of coding period is just going to over, I worked really hard this week,discussed each & every details with my mentors about the feature to be implemeted, sended multiple Merge Request this week. A detailed info about my work is given below\n",
    "\n",
    "## Completing UI for Main Features\n",
    "\n",
    "I developed UI for rest of the main features of this App, I made a bottom Sheet UI which displays option to filter costs by Category & Price.\n",
    "I also made view cdm screen by which user will be able to view cdm of individual hospital.\n",
    "\n",
    "![bottom.jpeg](https://raw.githubusercontent.com/Darshpreet2000/My-Blog/master/images/bottom.jpeg)\n",
    "\n",
    "\n",
    "## Setting Web Crawler & CI Pipeline\n",
    "\n",
    "I setup GitLab CI (Continous Integration) Pipeline which will automatically scrap CDM of hospital whenever we will schedule it.\n",
    "This pipeline will also process data after scraping to proper columns , which I will use it in App.\n",
    "\n",
    "I discussed a lot with mentors about it, I have finally sent a merge request for this feature.\n",
    "\n",
    "I also scraped CDM of Alaska State, I will start scraping CDM for next week.\n",
    "\n",
    "##  Making SQL Database in App\n",
    "\n",
    "I only made a skeleton class for database in App, I have written functions in it to create database, create table, Insert a list of object in table, A lot of other functions are also needed which I will do by next week.\n",
    "\n",
    "## What I plan to do next week?\n",
    "\n",
    "I will start working on backend code of home screen, I will use Overpass API to display nearby hospital by getting user location, I will display nearby hospital list with image from Google to make it more attractive.\n",
    "\n",
    "For web crawler Repository , I will scrap CDM of Indiana State."
   ]
  },
  {
   "cell_type": "code",
   "execution_count": null,
   "metadata": {},
   "outputs": [],
   "source": []
  }
 ],
 "metadata": {
  "kernelspec": {
   "display_name": "Python 3",
   "language": "python",
   "name": "python3"
  },
  "language_info": {
   "codemirror_mode": {
    "name": "ipython",
    "version": 3
   },
   "file_extension": ".py",
   "mimetype": "text/x-python",
   "name": "python",
   "nbconvert_exporter": "python",
   "pygments_lexer": "ipython3",
   "version": "3.7.6"
  }
 },
 "nbformat": 4,
 "nbformat_minor": 4
}
