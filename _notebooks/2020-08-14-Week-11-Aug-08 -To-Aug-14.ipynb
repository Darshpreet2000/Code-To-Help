{
 "cells": [
  {
   "cell_type": "markdown",
   "metadata": {},
   "source": [
    "# \"Coding Period: Week 11\"\n",
    "> \"Writing Unit tests of App & Completing its README.md\"\n",
    "\n",
    "- toc: false\n",
    "- branch: master\n",
    "- badges: true\n",
    "- comments: true\n",
    "- hide: false\n",
    "\n",
    "- search_exclude: true"
   ]
  },
  {
   "cell_type": "markdown",
   "metadata": {},
   "source": [
    "### Decreased size of scraper repository\n",
    "\n",
    "I reduced the repository size from 600 MB to around 14 MB using [BFG Repo Cleaner](https://rtyley.github.io/bfg-repo-cleaner/), it is a tool which cleans large blobs in git repository commits, I ran it to clear all blobs greater than 10 Kb & then I achieved 14 MB size, Well it is not the original size but a lot better than previous one.\n",
    "\n",
    "\n",
    "### Fixed CI pipeline\n",
    "\n",
    "The problem with CI pipeline was with authentication, I & my mentors fixed this issue correctly,Now we have used an access token instead of SSH earlier.Data is pushed in master branch of Gitlab repository\n",
    "\n",
    "### Wrote Unit tests of App\n",
    "\n",
    "I worked a lot on this during this week, I have used flutter's two popular packages,\n",
    "\n",
    "- [bloc_test](https://pub.dev/packages/bloc_test)  This is very useful for testing blocx which are used in BLoC architecture.\n",
    "\n",
    "- [mockito](https://pub.dev/packages/mockito) - Used flutter's mockito package which is used for mocking repository, I used it for testing mocking all repository & all API clients\n",
    "\n",
    "Wrote Unit Tests for \n",
    "\n",
    "- Home Screen\n",
    "- Download CDM screen,\n",
    "- Saved CDM Screen\n",
    "- View CDM\n",
    "- Search Screen\n",
    "- View CDM Statewise screen\n",
    "- Compare Hospital Screen\n",
    "- Also Wrote unit tests for Overpass API, GitLab API, Medicare Hospital Compare API\n",
    "\n",
    "### Completing README.md for App\n",
    "\n",
    "Readme of app is now completed, I have also modified readme of scraper as suggested by Mentor Mua to display links of hospitals in a table. I viewed a lot of Open Source projects Repositories to get idea.\n",
    "\n",
    "https://gitlab.com/Darshpreet2000/lh-toolkit-cost-of-care-app-data-scraper/-/blob/fix-issue/README.md\n",
    "\n",
    "### What do I plan to do next week?\n",
    "\n",
    "- I need to test app more to ensure each & every component is working correctly\n",
    "\n",
    "- Finding & fixing bugs in app.\n",
    "\n",
    "- Discussing with @mua_rachmann for REST server, App icon, Intro slides\n",
    "\n",
    "- Completing Unit tests for other screens"
   ]
  },
  {
   "cell_type": "code",
   "execution_count": null,
   "metadata": {},
   "outputs": [],
   "source": []
  }
 ],
 "metadata": {
  "kernelspec": {
   "display_name": "Python 3",
   "language": "python",
   "name": "python3"
  },
  "language_info": {
   "codemirror_mode": {
    "name": "ipython",
    "version": 3
   },
   "file_extension": ".py",
   "mimetype": "text/x-python",
   "name": "python",
   "nbconvert_exporter": "python",
   "pygments_lexer": "ipython3",
   "version": "3.8.3"
  }
 },
 "nbformat": 4,
 "nbformat_minor": 4
}
