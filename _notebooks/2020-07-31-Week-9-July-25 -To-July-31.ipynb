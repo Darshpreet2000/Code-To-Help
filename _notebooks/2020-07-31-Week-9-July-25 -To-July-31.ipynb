{
 "cells": [
  {
   "cell_type": "markdown",
   "metadata": {},
   "source": [
    "# \"Coding Period: Week 9\"\n",
    "> \"Working on Compare Hospitals Screen, Search functionality\"\n",
    "\n",
    "- toc: false\n",
    "- branch: master\n",
    "- badges: true\n",
    "- comments: true\n",
    "- hide: false\n",
    "\n",
    "- search_exclude: true"
   ]
  },
  {
   "cell_type": "markdown",
   "metadata": {},
   "source": [
    "### Working on Compare Hospitals List Screen\n",
    "\n",
    "I have use medicare Open Data API to fetch hospitals statewise available for comparision. After fetching I am displaying it as list of Strings with compare button which is a boolean.\n",
    "\n",
    "User can select 2 hospitals to compare , I have added snackbar to show if user has selected more than 2 hospitals\n",
    "\n",
    "#### ScreenShots\n",
    "\n",
    "![download_cdm](https://github.com/Darshpreet2000/My-Blog/blob/master/images/compare_3.jpeg?raw=true)\n",
    "\n",
    "### Worked on Compare Hospital Screen\n",
    "\n",
    "This Screen compares two hospitals, Again I have used medicare API, I am calling GET Request two times one for each hospital.\n",
    "\n",
    "#### ScreenShots\n",
    "\n",
    "![download_cdm](https://github.com/Darshpreet2000/My-Blog/blob/master/images/compare_2.jpeg?raw=true)\n",
    "\n",
    "![download_cdm](https://github.com/Darshpreet2000/My-Blog/blob/master/images/compare_1.jpeg?raw=true)\n",
    "\n",
    "\n",
    "### Search Functionality in View CDM Screen\n",
    "\n",
    "Used SearchDelegate provided by flutter, I have created search functionality using it. This will query database & will get results & show it to user.\n",
    "\n",
    "#### ScreenShots\n",
    "\n",
    "![download_cdm](https://github.com/Darshpreet2000/My-Blog/blob/master/images/view_cdm.jpeg?raw=true)\n",
    "\n",
    "### What do I plan to do next week?\n",
    "\n",
    "1. Working on Share App, About, Report a bug, Screens\n",
    "\n",
    "2. Writing Readme of App\n",
    "\n",
    "3. Using Flutter Cache Manager to store CDM while downloading\n",
    "\n",
    "4. Writing Unit Test of Home Screen"
   ]
  },
  {
   "cell_type": "code",
   "execution_count": null,
   "metadata": {},
   "outputs": [],
   "source": []
  }
 ],
 "metadata": {
  "kernelspec": {
   "display_name": "Python 3",
   "language": "python",
   "name": "python3"
  },
  "language_info": {
   "codemirror_mode": {
    "name": "ipython",
    "version": 3
   },
   "file_extension": ".py",
   "mimetype": "text/x-python",
   "name": "python",
   "nbconvert_exporter": "python",
   "pygments_lexer": "ipython3",
   "version": "3.7.6"
  }
 },
 "nbformat": 4,
 "nbformat_minor": 4
}
