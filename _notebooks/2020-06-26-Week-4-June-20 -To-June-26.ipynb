{
 "cells": [
  {
   "cell_type": "markdown",
   "metadata": {},
   "source": [
    "# \"Coding Period: Week 4\"\n",
    "> \"Worked on new tab in bottom Navigation & Scraped CDM of New york\"\n",
    "\n",
    "- toc: false\n",
    "- branch: master\n",
    "- badges: true\n",
    "- comments: true\n",
    "- hide: false\n",
    "- search_exclude: true"
   ]
  },
  {
   "cell_type": "markdown",
   "metadata": {},
   "source": [
    "## Working on Download CDM Tab in Bottom Navigation\n",
    "\n",
    "Created a new tab in bottom Navigation which will display all the hospitals in current state of user. I have used GitLab Repository API.\n",
    "\n",
    "### Small Problem\n",
    "\n",
    "I have faced small problem while fetching data from API, I can get maximum of 100 Hospitals data by calling API, which is the limitation of GitLab API.\n",
    "\n",
    "### Solution\n",
    "\n",
    "So, I have to call API as many times in App till all hospitals data is fetched, I am fetching total number of pages in first call then calling API as many times the total number of pages & getting data of 100 hospitals each time.\n",
    "\n",
    "### Screen UI\n",
    "\n",
    "![download_cdm](https://github.com/Darshpreet2000/My-Blog/blob/master/images/download_cdm.jpeg?raw=true)\n",
    "\n",
    "\n",
    "### Saving CDM to SQL Database\n",
    "\n",
    "I will download csv of each file from GitLab API, I will save it SQL Database in App, Currently I am working on this feature, I have to manage a lot of states in App, I am using BLoC Architecture to do this, I have made DAO [ Data Access Object ] file for it , to do this in cleaner way.\n",
    "\n",
    "### Displaying CDM\n",
    "\n",
    "When user will click on download button of any list item, View button will appear, I am working on this & will display CDM as list on new Screen, I will complete this by Sunday.\n",
    "\n",
    "## Scraping CDM of New York State\n",
    "\n",
    "Currently, I am working on this, I have to make spider file for it which will get data from New York State Health Department, I have done making process script which will parse data to proper column names.\n",
    "This Data is provided by OSHPD New York Department.\n",
    "\n",
    "## What do I plan to do next week?\n",
    "\n",
    "1. Working on Search Screen & Saved screen backend\n",
    "\n",
    "\n",
    "2. Scraping CDM of California State\n"
   ]
  },
  {
   "cell_type": "code",
   "execution_count": null,
   "metadata": {},
   "outputs": [],
   "source": []
  }
 ],
 "metadata": {
  "kernelspec": {
   "display_name": "Python 3",
   "language": "python",
   "name": "python3"
  },
  "language_info": {
   "codemirror_mode": {
    "name": "ipython",
    "version": 3
   },
   "file_extension": ".py",
   "mimetype": "text/x-python",
   "name": "python",
   "nbconvert_exporter": "python",
   "pygments_lexer": "ipython3",
   "version": "3.7.6"
  }
 },
 "nbformat": 4,
 "nbformat_minor": 4
}
