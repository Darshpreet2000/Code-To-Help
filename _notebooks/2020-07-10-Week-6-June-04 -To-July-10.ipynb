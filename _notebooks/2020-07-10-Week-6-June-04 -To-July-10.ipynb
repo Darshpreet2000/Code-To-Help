{
 "cells": [
  {
   "cell_type": "markdown",
   "metadata": {},
   "source": [
    "# \"Coding Period: Week 6\"\n",
    "> \"Wrote readme of scraper, Scraped CDM of California\"\n",
    "\n",
    "- toc: false\n",
    "- branch: master\n",
    "- badges: true\n",
    "- comments: true\n",
    "- hide: false\n",
    "- search_exclude: true"
   ]
  },
  {
   "cell_type": "markdown",
   "metadata": {},
   "source": [
    "## Wrote Readme.md of scraper\n",
    "\n",
    "I worked on readme.md of scraper, I wrote in detail about project & then how to setup project in your system. I have written the commands which will be needed for scraping data. Then user needs to process the scraped CDM.\n",
    "\n",
    "Till now I have scraped & processed data of three states Alaska, Indiana, New York.\n",
    "\n",
    "## Scraped CDM of California\n",
    "\n",
    "I made scrapy spider which gets data from this (Link) , This data is provided by California State Health Department. I have to make \"process.py\" scripts for each hospital.  \n",
    "\n",
    "## Changed Code Organisation\n",
    "\n",
    "Separated “process.py” from “Data” Directory, so that user don’t need to clone large repository. I have made changes in all process.py scripts.\n",
    "\n",
    "## Working on changes suggested by Mentor Mua\n",
    "\n",
    "I am currently working on changes suggested by Mentor Mua on Cost Of Care App, I will make Merge Request by tomorrow\n",
    "\n",
    "## Setting Gitlab CI\n",
    "\n",
    "I have tried a lot but chromedriver & chromebrowser are not working in Linux CI Pipeline, I am getting exception in pipeline,but its working on my windows, maybe I am not installing them properly , I will search more on this, & will discuss with my mentors\n",
    "\n",
    "## What do I plan to do next week?\n",
    "\n",
    "#### For Web Scraper\n",
    "\n",
    "- Generating “process.py” script for each hospital\n",
    "\n",
    "#### For App\n",
    "\n",
    "- Working on View CDM Statewise screen.\n",
    "\n",
    "#### GitLab CI Pipeline\n",
    "\n",
    "- I have to setup chromedriver & chromebrowser in CI Pipeline & then make this project run properly"
   ]
  },
  {
   "cell_type": "code",
   "execution_count": null,
   "metadata": {},
   "outputs": [],
   "source": []
  },
  {
   "cell_type": "code",
   "execution_count": null,
   "metadata": {},
   "outputs": [],
   "source": []
  }
 ],
 "metadata": {
  "kernelspec": {
   "display_name": "Python 3",
   "language": "python",
   "name": "python3"
  },
  "language_info": {
   "codemirror_mode": {
    "name": "ipython",
    "version": 3
   },
   "file_extension": ".py",
   "mimetype": "text/x-python",
   "name": "python",
   "nbconvert_exporter": "python",
   "pygments_lexer": "ipython3",
   "version": "3.7.6"
  }
 },
 "nbformat": 4,
 "nbformat_minor": 4
}
