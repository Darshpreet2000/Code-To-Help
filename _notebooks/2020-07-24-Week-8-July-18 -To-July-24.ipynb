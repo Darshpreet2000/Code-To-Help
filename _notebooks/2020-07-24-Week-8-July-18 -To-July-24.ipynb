{
 "cells": [
  {
   "cell_type": "markdown",
   "metadata": {},
   "source": [
    "# \"Coding Period: Week 8\"\n",
    "> \"Scraping Medicare data, Making UI of compare hospital\"\n",
    "\n",
    "- toc: false\n",
    "- branch: master\n",
    "- badges: true\n",
    "- comments: true\n",
    "- hide: false\n",
    "\n",
    "- search_exclude: true"
   ]
  },
  {
   "cell_type": "markdown",
   "metadata": {},
   "source": [
    "### Completing View CDM Statewise Screen\n",
    "\n",
    "This screen displays all data from the scraper, I have used GitLab API to get data from Gitlab Repository, User can download CDM from other states also & app can work Offline after CDM are saved to SQL Database\n",
    "\n",
    "I have created separate BLoC for this screen but for displaying list of hospitals I am using \"download cdm screen\" & \"view cdm screen\".\n",
    "\n",
    "#### ScreenShots\n",
    "\n",
    "![download_cdm](https://github.com/Darshpreet2000/My-Blog/blob/master/images/view_cdm_state.jpeg?raw=true)\n",
    "\n",
    "\n",
    "### Made UI of Compare Hospital Screen\n",
    "\n",
    "I have only made UI of Compare Hospital Screen, I will complete its backend work by next week, I will get data from medicare hospital compare data, I will use socrata API to get data in app\n",
    "\n",
    "https://www.medicare.gov/hospitalcompare/search.html\n",
    "\n",
    "This is Medicare Hospital Compare Website, It uses data from\n",
    "\n",
    "https://data.medicare.gov/data/hospital-compare data.medicare.gov\n",
    "\n",
    "#### ScreenShots of UI\n",
    "\n",
    "![download_cdm](https://github.com/Darshpreet2000/My-Blog/blob/master/images/compare_hospital_ui.jpeg?raw=true)\n",
    "\n",
    "![download_cdm](https://github.com/Darshpreet2000/My-Blog/blob/master/images/compare_hospital.jpeg?raw=true)\n",
    "\n",
    "\n",
    "\n",
    "### Scraped & processed Medicare Data\n",
    "\n",
    "I made scrapy spider to scrap data from CMS Data of\n",
    "\n",
    "Inpatient Data of 3000 Hospitals\n",
    "\n",
    "https://data.cms.gov/Medicare-Inpatient/Inpatient-Prospective-Payment-System-IPPS-Provider/tcsp-6e99\n",
    "\n",
    "Outpatient Data of Hospitals\n",
    "\n",
    "https://data.cms.gov/Medicare-Outpatient/Provider-Outpatient-Hospital-Charge-Data-by-APC-CY/fmbt-qrrw\n",
    "\n",
    "I also made process script which processes CDM to proper columns & also seperates each hospital & places to its state folder by its state Code\n",
    "\n",
    "## What do I plan to do next week?\n",
    "\n",
    "1. Completing compare hospitals screen\n",
    "\n",
    "2. Adding search functionality in view cdm screen\n",
    "\n",
    "3. Discussing with mentors for GUI of scraper"
   ]
  }
 ],
 "metadata": {
  "kernelspec": {
   "display_name": "Python 3",
   "language": "python",
   "name": "python3"
  },
  "language_info": {
   "codemirror_mode": {
    "name": "ipython",
    "version": 3
   },
   "file_extension": ".py",
   "mimetype": "text/x-python",
   "name": "python",
   "nbconvert_exporter": "python",
   "pygments_lexer": "ipython3",
   "version": "3.7.6"
  }
 },
 "nbformat": 4,
 "nbformat_minor": 4
}
