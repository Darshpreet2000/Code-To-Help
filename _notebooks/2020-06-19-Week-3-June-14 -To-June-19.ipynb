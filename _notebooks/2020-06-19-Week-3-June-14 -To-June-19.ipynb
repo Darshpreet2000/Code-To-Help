{
 "cells": [
  {
   "cell_type": "markdown",
   "metadata": {},
   "source": [
    "# \"Coding Period: Week 3\"\n",
    "> \"Working on Home Screen backend with BLoC Architecture\"\n",
    "\n",
    "- toc: false\n",
    "- branch: master\n",
    "- badges: true\n",
    "- comments: true\n",
    "- hide: false\n",
    "- search_exclude: true"
   ]
  },
  {
   "cell_type": "markdown",
   "metadata": {},
   "source": [
    "This week I learned BLoC Architecture in Flutter, I understood it quickly from YouTube videos. I started implementing it in App.\n",
    "\n",
    "I will try to explain first what BLOC components should do as short as possible (and as trivial as possible).\n",
    "\n",
    "* UI screen - obviously shows data to the user\n",
    "\n",
    "* BLOC (or the ViewModel) - decides HOW to display data to the user, do we make the text bold, do we show the error, do we go to next screen.\n",
    "\n",
    "* Repo - decides WHAT data to display to the user (do we show the content from db, do we fetch it from API)\n",
    "\n",
    "### Working on Home Screen Backend\n",
    "I have created BLoC for home screen & location services, I have done the following tasks in Home screen\n",
    "\n",
    "1. Fetched & Displayed User Location using Geolocator Package\n",
    "   App will ask for location permission & will access location of user, I have used two packages\n",
    "   \n",
    "   * location - For asking GPS Permission\n",
    "   \n",
    "   * GeoLocator - For Getting coordinates of user location\n",
    "\n",
    "2. Fetched Nearby Hospitals using Overpass API\n",
    "   \n",
    "   * Used Overpass API for Getting Nearby Hospitals, I have to pass Location Coordinates & radius to get hospitals around my          Location\n",
    "   \n",
    "   * Then I Parsed JSoN data recieved to list of objects\n",
    "\n",
    "3. Fetching Image of each hospital from Google\n",
    "    \n",
    "   * For fetching images, I have Used FutureBuilder Widget in flutter which executes a function which searches on Google by          Hospital name & fetches the HTML Response, Then I get the link of first image & pass it to another widget Cached Netwrok        Image which loads the image.\n",
    "\n",
    "4. Using Shimmer Loading Effect to load list\n",
    "   \n",
    "   * I have use flutter shimmer package for doing this, I have created a ListTile for this, While the data is Loading I display      this.\n",
    "\n",
    "### GIF of Home Screen\n",
    "\n",
    "![Home Demo](https://github.com/Darshpreet2000/My-Blog/blob/master/images/home_demo.gif?raw=true)\n",
    "\n",
    "### SQL Database Class\n",
    "\n",
    "Completed Main functionality of SQL Database class\n",
    "\n",
    "* Implemented Basic Insertion in SQL Database using Flutter **sqflite** package, Some Other function are remaining which I will complete in upcoming weeks\n",
    "\n",
    "\n",
    "### Working on Web Crawler\n",
    "\n",
    "Scraped CDM of Indiana State\n",
    "\n",
    "* I have Used Data Provided by Indiana State, It contains discharge data of Hospitals of 2018, I have scraped data using scrapy, processed data to proper column names using python.\n",
    "\n",
    "\n",
    "### What do I plan to do next week\n",
    "\n",
    "1. I have used shared pref to store some data, I will replace it with Hive\n",
    "\n",
    "2. I will use sqflite to store CDM\n",
    "\n",
    "3. Working on Main Feature of this App [ Compare Prices Screen]\n",
    "\n",
    "4. Scraping CDM of New York State\n",
    "\n"
   ]
  },
  {
   "cell_type": "markdown",
   "metadata": {},
   "source": []
  }
 ],
 "metadata": {
  "kernelspec": {
   "display_name": "Python 3",
   "language": "python",
   "name": "python3"
  },
  "language_info": {
   "codemirror_mode": {
    "name": "ipython",
    "version": 3
   },
   "file_extension": ".py",
   "mimetype": "text/x-python",
   "name": "python",
   "nbconvert_exporter": "python",
   "pygments_lexer": "ipython3",
   "version": "3.7.6"
  }
 },
 "nbformat": 4,
 "nbformat_minor": 4
}
