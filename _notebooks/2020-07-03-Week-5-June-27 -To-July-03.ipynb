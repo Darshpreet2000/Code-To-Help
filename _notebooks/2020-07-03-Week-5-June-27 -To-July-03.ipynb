{
 "cells": [
  {
   "cell_type": "markdown",
   "metadata": {},
   "source": [
    "# \"Coding Period: Week 5\"\n",
    "> \"Worked on Search Screen of App, Filter functionality\"\n",
    "\n",
    "- toc: false\n",
    "- branch: master\n",
    "- badges: true\n",
    "- comments: true\n",
    "- hide: false\n",
    "- search_exclude: true"
   ]
  },
  {
   "cell_type": "markdown",
   "metadata": {},
   "source": [
    "## Working on Saved Screen of App\n",
    "\n",
    "Saved Screen displays downloaded CDM which are saved to SQL database, User can view any CDM from SQL database.I have created separate BLoC for this.\n",
    "\n",
    "For getting list of saved screen , I am searching all tables in database.\n",
    "\n",
    "## Screen UI\n",
    "\n",
    "\n",
    "![download_cdm](https://github.com/Darshpreet2000/My-Blog/blob/master/images/saved_chargemaster.jpeg?raw=true)\n",
    "\n",
    "\n",
    "## Made DAO ( Data Access Object )\n",
    "\n",
    "This directly queries the database, I have created following Queries\n",
    "\n",
    "- Create Table with column ( description, charge, category )\n",
    "\n",
    "- Inserting CDM to table\n",
    "\n",
    "- Searching particular procedure in Database & converting result to list\n",
    "\n",
    "- Getting data of table\n",
    " \n",
    "## Worked on Search Screen & Filter Functionality\n",
    "\n",
    "In search screen user can search for any procedure, the procedure will be queried in database, which returns list. I have also worked on filter functionality of App.\n",
    "\n",
    "In Filter Functionality user can sort list by\n",
    "\n",
    "- Category \n",
    "  which is of three types - Standard, DRG , Pharmacy\n",
    "   \n",
    "- Price\n",
    "  in Ascending or Descending Order\n",
    "\n",
    "I have also created a \"Clear All\" button , which clears the filter.\n",
    "\n",
    "I am saving these filter data to Hive as key-value Pair\n",
    "\n",
    "\n",
    "## UI\n",
    "\n",
    "![download_cdm](https://github.com/Darshpreet2000/My-Blog/blob/master/images/filter.jpeg?raw=true)\n",
    "\n",
    "\n",
    "## What do I plan to do next week?\n",
    "\n",
    "### For Web Scraper\n",
    "\n",
    "- Scraping CDM of California State\n",
    "\n",
    "- Making Separate Spider class for it\n",
    "\n",
    "- Generating “process.py” script for each hospital\n",
    "\n",
    "- Making generate.py file by which user can generate “process.py” scripts which will parse CDM to proper columns\n",
    "\n",
    "### For App\n",
    "\n",
    "- Working on View CDM Statewise screen.\n",
    "\n",
    "- Making seperate BLoC for it.\n",
    "\n",
    "- Using GitLab API to get CDM of each state\n"
   ]
  },
  {
   "cell_type": "code",
   "execution_count": null,
   "metadata": {},
   "outputs": [],
   "source": []
  }
 ],
 "metadata": {
  "kernelspec": {
   "display_name": "Python 3",
   "language": "python",
   "name": "python3"
  },
  "language_info": {
   "codemirror_mode": {
    "name": "ipython",
    "version": 3
   },
   "file_extension": ".py",
   "mimetype": "text/x-python",
   "name": "python",
   "nbconvert_exporter": "python",
   "pygments_lexer": "ipython3",
   "version": "3.7.6"
  }
 },
 "nbformat": 4,
 "nbformat_minor": 4
}
